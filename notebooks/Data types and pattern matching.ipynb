{
  "worksheets": [
    {
      "cells": [
        {
          "source": [
            "Data types and pattern matching"
          ],
          "metadata": {},
          "cell_type": "heading",
          "level": 1
        },
        {
          "source": [
            "OCaml has a concise and expressive system for creating new datatypes. It also supports pattern matching to naturally express deconstruction of these data types."
          ],
          "metadata": {},
          "cell_type": "markdown"
        },
        {
          "source": [
            "Type aliases"
          ],
          "metadata": {},
          "cell_type": "heading",
          "level": 2
        },
        {
          "source": [
            "OCaml allows you to define aliases for existing types using the `type` keyword:"
          ],
          "metadata": {},
          "cell_type": "markdown"
        },
        {
          "outputs": [
            {
              "html": [
                "<pre style=\"color:slategray;max-height:100px;overflow:hidden\" \n",
                "onclick=\"\n",
                "if (this.style.maxHeight === 'none') \n",
                "    this.style.maxHeight = '100px';\n",
                "else\n",
                "    this.style.maxHeight = 'none'; \n",
                "\">type int_pair = int * int\n",
                "</pre>"
              ],
              "output_type": "pyout",
              "prompt_number": 1,
              "metadata": {}
            }
          ],
          "input": [
            "type int_pair = int * int"
          ],
          "metadata": {},
          "cell_type": "code",
          "prompt_number": 1,
          "language": "python",
          "collapsed": false
        },
        {
          "source": [
            "The above defines a type `int_pair` which is an alias to the pair of ints type (`int * int`).\n",
            "\n",
            "You can constrain the type of an expression using the `:` operator. Here we create an identity function which is constrained to only work on pairs of ints:"
          ],
          "metadata": {},
          "cell_type": "markdown"
        },
        {
          "outputs": [
            {
              "html": [
                "<pre style=\"color:slategray;max-height:100px;overflow:hidden\" \n",
                "onclick=\"\n",
                "if (this.style.maxHeight === 'none') \n",
                "    this.style.maxHeight = '100px';\n",
                "else\n",
                "    this.style.maxHeight = 'none'; \n",
                "\">val id : int_pair -&gt; int_pair = &lt;fun&gt;\n",
                "</pre>"
              ],
              "output_type": "pyout",
              "prompt_number": 2,
              "metadata": {}
            }
          ],
          "input": [
            "let id x = (x : int_pair)"
          ],
          "metadata": {},
          "cell_type": "code",
          "prompt_number": 2,
          "language": "python",
          "collapsed": false
        },
        {
          "source": [
            "Records"
          ],
          "metadata": {},
          "cell_type": "heading",
          "level": 2
        },
        {
          "source": [
            "Record types"
          ],
          "metadata": {},
          "cell_type": "heading",
          "level": 4
        },
        {
          "source": [
            "Records in OCaml represent a collection of named elements. A simple example is a `point` record containing `x`, `y` and `z` fields:"
          ],
          "metadata": {},
          "cell_type": "markdown"
        },
        {
          "outputs": [
            {
              "html": [
                "<pre style=\"color:slategray;max-height:100px;overflow:hidden\" \n",
                "onclick=\"\n",
                "if (this.style.maxHeight === 'none') \n",
                "    this.style.maxHeight = '100px';\n",
                "else\n",
                "    this.style.maxHeight = 'none'; \n",
                "\">type point = { x : int; y : int; z : int; }\n",
                "</pre>"
              ],
              "output_type": "pyout",
              "prompt_number": 7,
              "metadata": {}
            }
          ],
          "input": [
            "type point = {\n",
            "  x : int;\n",
            "  y : int;\n",
            "  z : int;\n",
            "}"
          ],
          "metadata": {},
          "cell_type": "code",
          "prompt_number": 7,
          "language": "python",
          "collapsed": false
        },
        {
          "source": [
            "We can create instances of our `point` type using `{ ... }`, and access the elements of a point using the '.' operator:"
          ],
          "metadata": {},
          "cell_type": "markdown"
        },
        {
          "outputs": [
            {
              "html": [
                "<pre style=\"color:slategray;max-height:100px;overflow:hidden\" \n",
                "onclick=\"\n",
                "if (this.style.maxHeight === 'none') \n",
                "    this.style.maxHeight = '100px';\n",
                "else\n",
                "    this.style.maxHeight = 'none'; \n",
                "\">val origin : point = {x = 0; y = 0; z = 0}\n",
                "</pre>"
              ],
              "output_type": "pyout",
              "prompt_number": 8,
              "metadata": {}
            },
            {
              "html": [
                "<pre style=\"color:slategray;max-height:100px;overflow:hidden\" \n",
                "onclick=\"\n",
                "if (this.style.maxHeight === 'none') \n",
                "    this.style.maxHeight = '100px';\n",
                "else\n",
                "    this.style.maxHeight = 'none'; \n",
                "\">val get_y : point -&gt; int = &lt;fun&gt;\n",
                "</pre>"
              ],
              "output_type": "pyout",
              "prompt_number": 8,
              "metadata": {}
            },
            {
              "html": [
                "<pre style=\"color:slategray;max-height:100px;overflow:hidden\" \n",
                "onclick=\"\n",
                "if (this.style.maxHeight === 'none') \n",
                "    this.style.maxHeight = '100px';\n",
                "else\n",
                "    this.style.maxHeight = 'none'; \n",
                "\">val o : int = 0\n",
                "</pre>"
              ],
              "output_type": "pyout",
              "prompt_number": 8,
              "metadata": {}
            }
          ],
          "input": [
            "let origin = { x = 0; y = 0; z = 0 }\n",
            "\n",
            "let get_y r = r.y\n",
            "\n",
            "let o = get_y origin"
          ],
          "metadata": {},
          "cell_type": "code",
          "prompt_number": 8,
          "language": "python",
          "collapsed": false
        },
        {
          "source": [
            "Functional update"
          ],
          "metadata": {},
          "cell_type": "heading",
          "level": 4
        },
        {
          "source": [
            "New records can also be created from existing records using the `with` keyword. For example, we can create a new `point` which is the same as `origin` except with the value of its `z` field changed to `10`:"
          ],
          "metadata": {},
          "cell_type": "markdown"
        },
        {
          "outputs": [
            {
              "html": [
                "<pre style=\"color:slategray;max-height:100px;overflow:hidden\" \n",
                "onclick=\"\n",
                "if (this.style.maxHeight === 'none') \n",
                "    this.style.maxHeight = '100px';\n",
                "else\n",
                "    this.style.maxHeight = 'none'; \n",
                "\">val p : point = {x = 0; y = 0; z = 10}\n",
                "</pre>"
              ],
              "output_type": "pyout",
              "prompt_number": 9,
              "metadata": {}
            }
          ],
          "input": [
            "let p = { origin with z = 10 }"
          ],
          "metadata": {},
          "cell_type": "code",
          "prompt_number": 9,
          "language": "python",
          "collapsed": false
        },
        {
          "source": [
            "Field punning"
          ],
          "metadata": {},
          "cell_type": "heading",
          "level": 4
        },
        {
          "source": [
            "Another useful trick with records is *field punning*, which allows you to replace:"
          ],
          "metadata": {},
          "cell_type": "markdown"
        },
        {
          "outputs": [
            {
              "html": [
                "<pre style=\"color:slategray;max-height:100px;overflow:hidden\" \n",
                "onclick=\"\n",
                "if (this.style.maxHeight === 'none') \n",
                "    this.style.maxHeight = '100px';\n",
                "else\n",
                "    this.style.maxHeight = 'none'; \n",
                "\">val mk_point : int -&gt; int -&gt; int -&gt; point = &lt;fun&gt;\n",
                "</pre>"
              ],
              "output_type": "pyout",
              "prompt_number": 12,
              "metadata": {}
            }
          ],
          "input": [
            "let mk_point x y z = { x = x; y = y; z = z }"
          ],
          "metadata": {},
          "cell_type": "code",
          "prompt_number": 12,
          "language": "python",
          "collapsed": false
        },
        { "source": [
            "with"
          ], "metadata": {}, "cell_type": "markdown" },
        {
          "outputs": [
            {
              "html": [
                "<pre style=\"color:slategray;max-height:100px;overflow:hidden\" \n",
                "onclick=\"\n",
                "if (this.style.maxHeight === 'none') \n",
                "    this.style.maxHeight = '100px';\n",
                "else\n",
                "    this.style.maxHeight = 'none'; \n",
                "\">val mk_point : int -&gt; int -&gt; int -&gt; point = &lt;fun&gt;\n",
                "</pre>"
              ],
              "output_type": "pyout",
              "prompt_number": 11,
              "metadata": {}
            }
          ],
          "input": [
            "let mk_point x y z = { x; y; z }"
          ],
          "metadata": {},
          "cell_type": "code",
          "prompt_number": 11,
          "language": "python",
          "collapsed": false
        },
        {
          "source": [
            "Variants"
          ],
          "metadata": {},
          "cell_type": "heading",
          "level": 2
        },
        {
          "source": [
            "Variant types"
          ],
          "metadata": {},
          "cell_type": "heading",
          "level": 4
        },
        {
          "source": [
            "Variants in OCaml represent data which can be in one of a number of forms. A very simple example is a type representing one of three colours:"
          ],
          "metadata": {},
          "cell_type": "markdown"
        },
        {
          "outputs": [
            {
              "html": [
                "<pre style=\"color:slategray;max-height:100px;overflow:hidden\" \n",
                "onclick=\"\n",
                "if (this.style.maxHeight === 'none') \n",
                "    this.style.maxHeight = '100px';\n",
                "else\n",
                "    this.style.maxHeight = 'none'; \n",
                "\">type colour = Red | Blue | Green\n",
                "</pre>"
              ],
              "output_type": "pyout",
              "prompt_number": 14,
              "metadata": {}
            }
          ],
          "input": [
            "type colour =\n",
            "  | Red\n",
            "  | Green\n",
            "  | Blue"
          ],
          "metadata": {},
          "cell_type": "code",
          "prompt_number": 14,
          "language": "python",
          "collapsed": false
        },
        {
          "source": [
            "We can create a `colour` using one of its constructors:"
          ],
          "metadata": {},
          "cell_type": "markdown"
        },
        {
          "outputs": [
            {
              "html": [
                "<pre style=\"color:slategray;max-height:100px;overflow:hidden\" \n",
                "onclick=\"\n",
                "if (this.style.maxHeight === 'none') \n",
                "    this.style.maxHeight = '100px';\n",
                "else\n",
                "    this.style.maxHeight = 'none'; \n",
                "\">val red : colour = Red\n",
                "</pre>"
              ],
              "output_type": "pyout",
              "prompt_number": 15,
              "metadata": {}
            }
          ],
          "input": [
            "let red = Red"
          ],
          "metadata": {},
          "cell_type": "code",
          "prompt_number": 15,
          "language": "python",
          "collapsed": false
        },
        {
          "source": [
            "Constructor arguments"
          ],
          "metadata": {},
          "cell_type": "heading",
          "level": 4
        },
        {
          "source": [
            "Variant constructors can also have arguments. This allows variants to contain different types of data depending on which constructor was used. For example, we can create a type which contains either a `point` or a `colour`:"
          ],
          "metadata": {},
          "cell_type": "markdown"
        },
        {
          "outputs": [
            {
              "html": [
                "<pre style=\"color:slategray;max-height:100px;overflow:hidden\" \n",
                "onclick=\"\n",
                "if (this.style.maxHeight === 'none') \n",
                "    this.style.maxHeight = '100px';\n",
                "else\n",
                "    this.style.maxHeight = 'none'; \n",
                "\">type t = Point of point | Colour of colour\n",
                "</pre>"
              ],
              "output_type": "pyout",
              "prompt_number": 32,
              "metadata": {}
            },
            {
              "html": [
                "<pre style=\"color:slategray;max-height:100px;overflow:hidden\" \n",
                "onclick=\"\n",
                "if (this.style.maxHeight === 'none') \n",
                "    this.style.maxHeight = '100px';\n",
                "else\n",
                "    this.style.maxHeight = 'none'; \n",
                "\">val p_or_c : bool -&gt; point -&gt; colour -&gt; t = &lt;fun&gt;\n",
                "</pre>"
              ],
              "output_type": "pyout",
              "prompt_number": 32,
              "metadata": {}
            },
            {
              "html": [
                "<pre style=\"color:slategray;max-height:100px;overflow:hidden\" \n",
                "onclick=\"\n",
                "if (this.style.maxHeight === 'none') \n",
                "    this.style.maxHeight = '100px';\n",
                "else\n",
                "    this.style.maxHeight = 'none'; \n",
                "\">val p : t = Point {x = 0; y = 0; z = 0}\n",
                "</pre>"
              ],
              "output_type": "pyout",
              "prompt_number": 32,
              "metadata": {}
            }
          ],
          "input": [
            "type t =\n",
            "  | Point of point\n",
            "  | Colour of colour\n",
            "  \n",
            "let p_or_c cond pnt col = if cond then Point pnt else Colour col\n",
            "\n",
            "let p = p_or_c (1 > 0) origin red"
          ],
          "metadata": {},
          "cell_type": "code",
          "prompt_number": 32,
          "language": "python",
          "collapsed": false
        },
        {
          "source": [
            "Multiple constructor arguments"
          ],
          "metadata": {},
          "cell_type": "heading",
          "level": 4
        },
        {
          "source": [
            "Variants constructors can contain multiple arguments seperated by the `*` symbol:"
          ],
          "metadata": {},
          "cell_type": "markdown"
        },
        {
          "outputs": [
            {
              "html": [
                "<pre style=\"color:slategray;max-height:100px;overflow:hidden\" \n",
                "onclick=\"\n",
                "if (this.style.maxHeight === 'none') \n",
                "    this.style.maxHeight = '100px';\n",
                "else\n",
                "    this.style.maxHeight = 'none'; \n",
                "\">type s = ThreePoints of point * point * point | TwoColours of colour * colour\n",
                "</pre>"
              ],
              "output_type": "pyout",
              "prompt_number": 31,
              "metadata": {}
            }
          ],
          "input": [
            "type s =\n",
            "| ThreePoints of point * point * point\n",
            "| TwoColours of colour * colour"
          ],
          "metadata": {},
          "cell_type": "code",
          "prompt_number": 31,
          "language": "python",
          "collapsed": false
        },
        {
          "source": [
            "Creating these constructors with multiple arguments require parentheses:"
          ],
          "metadata": {},
          "cell_type": "markdown"
        },
        {
          "outputs": [
            {
              "html": [
                "<pre style=\"color:slategray;max-height:100px;overflow:hidden\" \n",
                "onclick=\"\n",
                "if (this.style.maxHeight === 'none') \n",
                "    this.style.maxHeight = '100px';\n",
                "else\n",
                "    this.style.maxHeight = 'none'; \n",
                "\">val s : s = TwoColours (Red, Green)\n",
                "</pre>"
              ],
              "output_type": "pyout",
              "prompt_number": 37,
              "metadata": {}
            }
          ],
          "input": [
            "let s = TwoColours(Red, Green)"
          ],
          "metadata": {},
          "cell_type": "code",
          "prompt_number": 37,
          "language": "python",
          "collapsed": false
        },
        {
          "source": [
            "Pattern matching"
          ],
          "metadata": {},
          "cell_type": "heading",
          "level": 3
        },
        {
          "source": [
            "Inspecting variants"
          ],
          "metadata": {},
          "cell_type": "heading",
          "level": 4
        },
        {
          "source": [
            "So far we have created some values of variant types, but how do we get the data back out of them? The answer is *pattern matching*. Using a `match` statement we can deconstruct a variant type and retrieve its constructor's arguments:"
          ],
          "metadata": {},
          "cell_type": "markdown"
        },
        {
          "outputs": [
            {
              "text": [
                "Point: 5 9 0\n",
                "Colour\n"
              ],
              "output_type": "stream",
              "stream": "stdout"
            },
            {
              "html": [
                "<pre style=\"color:slategray;max-height:100px;overflow:hidden\" \n",
                "onclick=\"\n",
                "if (this.style.maxHeight === 'none') \n",
                "    this.style.maxHeight = '100px';\n",
                "else\n",
                "    this.style.maxHeight = 'none'; \n",
                "\">val print_t : t -&gt; unit = &lt;fun&gt;\n",
                "</pre>"
              ],
              "output_type": "pyout",
              "prompt_number": 22,
              "metadata": {}
            }
          ],
          "input": [
            "let print_t t =\n",
            "  match t with\n",
            "  | Point p -> Printf.printf \"Point: %d %d %d\\n\" p.x p.y p.z\n",
            "  | Colour c -> Printf.printf \"Colour\\n\"\n",
            "  \n",
            "let () = print_t (Point { x = 5; y = 9; z = 0 })\n",
            "\n",
            "let () = print_t (Colour Blue)"
          ],
          "metadata": {},
          "cell_type": "code",
          "prompt_number": 22,
          "language": "python",
          "collapsed": false
        },
        {
          "source": [
            "Here `Point p` and `Colour c` are not expressions but *patterns*. They describe the shape of the data and bind variables to different parts of it. Note that the `p` in `Point p` does not refer to an existing `p` variable, instead it is creating a new `p` variable bound to the argument of the `Point` constructor."
          ],
          "metadata": {},
          "cell_type": "markdown"
        },
        {
          "source": [
            "Nested patterns"
          ],
          "metadata": {},
          "cell_type": "heading",
          "level": 4
        },
        {
          "source": [
            "We can nest patterns within other patterns to do pattern matching on the constructor arguments. For example, we can print the names of the different colours in our `print_t` function:"
          ],
          "metadata": {},
          "cell_type": "markdown"
        },
        {
          "outputs": [
            {
              "text": [
                "Red\n",
                "Blue\n"
              ],
              "output_type": "stream",
              "stream": "stdout"
            },
            {
              "html": [
                "<pre style=\"color:slategray;max-height:100px;overflow:hidden\" \n",
                "onclick=\"\n",
                "if (this.style.maxHeight === 'none') \n",
                "    this.style.maxHeight = '100px';\n",
                "else\n",
                "    this.style.maxHeight = 'none'; \n",
                "\">val print_t : t -&gt; unit = &lt;fun&gt;\n",
                "</pre>"
              ],
              "output_type": "pyout",
              "prompt_number": 33,
              "metadata": {}
            }
          ],
          "input": [
            "let print_t t =\n",
            "  match t with\n",
            "  | Point p -> Printf.printf \"Point: %d %d %d\\n\" p.x p.y p.z\n",
            "  | Colour Red -> Printf.printf \"Red\\n\"\n",
            "  | Colour Green -> Printf.printf \"Green\\n\"\n",
            "  | Colour Blue -> Printf.printf \"Blue\\n\"\n",
            "  \n",
            "let () = print_t (Colour Red)\n",
            "\n",
            "let () = print_t (Colour Blue)"
          ],
          "metadata": {},
          "cell_type": "code",
          "prompt_number": 33,
          "language": "python",
          "collapsed": false
        },
        {
          "source": [
            "Matching records"
          ],
          "metadata": {},
          "cell_type": "heading",
          "level": 4
        },
        {
          "source": [
            "We can also match on record data using the same syntax as to create records, including field punning. So our `print_t` can be further refined to:"
          ],
          "metadata": {},
          "cell_type": "markdown"
        },
        {
          "outputs": [
            {
              "html": [
                "<pre style=\"color:slategray;max-height:100px;overflow:hidden\" \n",
                "onclick=\"\n",
                "if (this.style.maxHeight === 'none') \n",
                "    this.style.maxHeight = '100px';\n",
                "else\n",
                "    this.style.maxHeight = 'none'; \n",
                "\">val print_t : t -&gt; unit = &lt;fun&gt;\n",
                "</pre>"
              ],
              "output_type": "pyout",
              "prompt_number": 36,
              "metadata": {}
            }
          ],
          "input": [
            "let print_t t =\n",
            "  match t with\n",
            "  | Point { x; y; z } -> Printf.printf \"Point: %d %d %d\\n\" x y z\n",
            "  | Colour Red -> Printf.printf \"Red\\n\"\n",
            "  | Colour Green -> Printf.printf \"Green\\n\"\n",
            "  | Colour Blue -> Printf.printf \"Blue\\n\""
          ],
          "metadata": {},
          "cell_type": "code",
          "prompt_number": 36,
          "language": "python",
          "collapsed": false
        },
        {
          "source": [
            "Exhaustiveness"
          ],
          "metadata": {},
          "cell_type": "heading",
          "level": 4
        },
        {
          "source": [
            "A key feature of pattern matching, which can help prevent many errors especially when refactoring, is that the compiler will warn you if you forget to handle a particular case. For example, if we had forgotten the `Colour Green` case in the above definition:"
          ],
          "metadata": {},
          "cell_type": "markdown"
        },
        {
          "outputs": [
            {
              "text": [
                "File \"[35]\", line 2, characters 2-161:\n",
                "Warning 8: this pattern-matching is not exhaustive.\n",
                "Here is an example of a value that is not matched:\n",
                "Colour Green\n"
              ],
              "output_type": "stream",
              "stream": "stderr"
            },
            {
              "html": [
                "<pre style=\"color:slategray;max-height:100px;overflow:hidden\" \n",
                "onclick=\"\n",
                "if (this.style.maxHeight === 'none') \n",
                "    this.style.maxHeight = '100px';\n",
                "else\n",
                "    this.style.maxHeight = 'none'; \n",
                "\">val print_t : t -&gt; unit = &lt;fun&gt;\n",
                "</pre>"
              ],
              "output_type": "pyout",
              "prompt_number": 35,
              "metadata": {}
            }
          ],
          "input": [
            "let print_t t =\n",
            "  match t with\n",
            "  | Point { x; y; z } -> Printf.printf \"Point: %d %d %d\\n\" x y z\n",
            "  | Colour Red -> Printf.printf \"Red\\n\"\n",
            "  | Colour Blue -> Printf.printf \"Blue\\n\""
          ],
          "metadata": {},
          "cell_type": "code",
          "prompt_number": 35,
          "language": "python",
          "collapsed": false
        },
        {
          "source": [
            "The `_` pattern"
          ],
          "metadata": {},
          "cell_type": "heading",
          "level": 4
        },
        {
          "source": [
            "Sometimes, you do not care about the value of a constructor, in this case you can use the `_` pattern which will match any constructor:"
          ],
          "metadata": {},
          "cell_type": "markdown"
        },
        {
          "outputs": [],
          "input": [
            "let is_colour_red t =\n",
            "  match t with\n",
            "  | Colour Red -> true\n",
            "  | _ -> false"
          ],
          "metadata": {},
          "cell_type": "code",
          "language": "python",
          "collapsed": false
        },
        {
          "source": [
            "Match ordering"
          ],
          "metadata": {},
          "cell_type": "heading",
          "level": 4
        },
        {
          "source": [
            "Note that patterns are matched from top to bottom: if a value matches multiple patterns then the first of those patterns will be selected. For example, in the following code the second case will never be matched:"
          ],
          "metadata": {},
          "cell_type": "markdown"
        },
        {
          "outputs": [
            {
              "text": [
                "File \"[27]\", line 4, characters 4-14:\n",
                "Warning 11: this match case is unused.\n"
              ],
              "output_type": "stream",
              "stream": "stderr"
            },
            {
              "html": [
                "<pre style=\"color:slategray;max-height:100px;overflow:hidden\" \n",
                "onclick=\"\n",
                "if (this.style.maxHeight === 'none') \n",
                "    this.style.maxHeight = '100px';\n",
                "else\n",
                "    this.style.maxHeight = 'none'; \n",
                "\">val is_colour_red : t -&gt; bool = &lt;fun&gt;\n",
                "</pre>"
              ],
              "output_type": "pyout",
              "prompt_number": 27,
              "metadata": {}
            }
          ],
          "input": [
            "let is_colour_red t =\n",
            "  match t with\n",
            "  | _ -> false\n",
            "  | Colour Red -> true"
          ],
          "metadata": {},
          "cell_type": "code",
          "prompt_number": 27,
          "language": "python",
          "collapsed": false
        },
        {
          "source": [
            "Parameterised types"
          ],
          "metadata": {},
          "cell_type": "heading",
          "level": 2
        },
        {
          "source": [
            "Types in OCaml can be parameterised by other types. For example, the `option` type which may or may not contain a value:"
          ],
          "metadata": {},
          "cell_type": "markdown"
        },
        {
          "outputs": [],
          "input": [
            "type 'a option =\n",
            "| None\n",
            "| Some of 'a"
          ],
          "metadata": {},
          "cell_type": "code",
          "language": "python",
          "collapsed": false
        },
        {
          "source": [
            "In the above the `'a` is a *type variable*, which can be substituted by any type. For instance a we can create a value of type `int option` or a value of type `colour option`:"
          ],
          "metadata": {},
          "cell_type": "markdown"
        },
        {
          "outputs": [
            {
              "html": [
                "<pre style=\"color:slategray;max-height:100px;overflow:hidden\" \n",
                "onclick=\"\n",
                "if (this.style.maxHeight === 'none') \n",
                "    this.style.maxHeight = '100px';\n",
                "else\n",
                "    this.style.maxHeight = 'none'; \n",
                "\">val io : int option = Some 6\n",
                "</pre>"
              ],
              "output_type": "pyout",
              "prompt_number": 43,
              "metadata": {}
            },
            {
              "html": [
                "<pre style=\"color:slategray;max-height:100px;overflow:hidden\" \n",
                "onclick=\"\n",
                "if (this.style.maxHeight === 'none') \n",
                "    this.style.maxHeight = '100px';\n",
                "else\n",
                "    this.style.maxHeight = 'none'; \n",
                "\">val co : colour option = Some Green\n",
                "</pre>"
              ],
              "output_type": "pyout",
              "prompt_number": 43,
              "metadata": {}
            }
          ],
          "input": [
            "let io = Some 6\n",
            "\n",
            "let co = Some Green"
          ],
          "metadata": {},
          "cell_type": "code",
          "prompt_number": 43,
          "language": "python",
          "collapsed": false
        },
        {
          "source": [
            "Polymorphic values"
          ],
          "metadata": {},
          "cell_type": "heading",
          "level": 4
        },
        {
          "source": [
            "These type variables also appear when creating *polymorphic* values. For example, the following function has type `'a option -> 'a list` which means it can be applied to any `option` type:"
          ],
          "metadata": {},
          "cell_type": "markdown"
        },
        {
          "outputs": [
            {
              "html": [
                "<pre style=\"color:slategray;max-height:100px;overflow:hidden\" \n",
                "onclick=\"\n",
                "if (this.style.maxHeight === 'none') \n",
                "    this.style.maxHeight = '100px';\n",
                "else\n",
                "    this.style.maxHeight = 'none'; \n",
                "\">val opt_to_list : 'a option -&gt; 'a list = &lt;fun&gt;\n",
                "</pre>"
              ],
              "output_type": "pyout",
              "prompt_number": 40,
              "metadata": {}
            },
            {
              "html": [
                "<pre style=\"color:slategray;max-height:100px;overflow:hidden\" \n",
                "onclick=\"\n",
                "if (this.style.maxHeight === 'none') \n",
                "    this.style.maxHeight = '100px';\n",
                "else\n",
                "    this.style.maxHeight = 'none'; \n",
                "\">val l : int list = [9]\n",
                "</pre>"
              ],
              "output_type": "pyout",
              "prompt_number": 40,
              "metadata": {}
            },
            {
              "html": [
                "<pre style=\"color:slategray;max-height:100px;overflow:hidden\" \n",
                "onclick=\"\n",
                "if (this.style.maxHeight === 'none') \n",
                "    this.style.maxHeight = '100px';\n",
                "else\n",
                "    this.style.maxHeight = 'none'; \n",
                "\">val m : colour list = [Red]\n",
                "</pre>"
              ],
              "output_type": "pyout",
              "prompt_number": 40,
              "metadata": {}
            }
          ],
          "input": [
            "let opt_to_list o =\n",
            "  match o with\n",
            "  | Some x -> [x]\n",
            "  | None -> []\n",
            "  \n",
            "let l = opt_to_list (Some 9)\n",
            "\n",
            "let m = opt_to_list (Some Red)"
          ],
          "metadata": {},
          "cell_type": "code",
          "prompt_number": 40,
          "language": "python",
          "collapsed": false
        },
        {
          "source": [
            "Polymorphic constructors"
          ],
          "metadata": {},
          "cell_type": "heading",
          "level": 4
        },
        {
          "source": [
            "Constructors of parameterised types which do not include the type parameter -- such as `None` in the optional type -- are also examples of polymorphic values:"
          ],
          "metadata": {},
          "cell_type": "markdown"
        },
        {
          "outputs": [
            {
              "html": [
                "<pre style=\"color:slategray;max-height:100px;overflow:hidden\" \n",
                "onclick=\"\n",
                "if (this.style.maxHeight === 'none') \n",
                "    this.style.maxHeight = '100px';\n",
                "else\n",
                "    this.style.maxHeight = 'none'; \n",
                "\">val n : 'a option = None\n",
                "</pre>"
              ],
              "output_type": "pyout",
              "prompt_number": 42,
              "metadata": {}
            },
            {
              "html": [
                "<pre style=\"color:slategray;max-height:100px;overflow:hidden\" \n",
                "onclick=\"\n",
                "if (this.style.maxHeight === 'none') \n",
                "    this.style.maxHeight = '100px';\n",
                "else\n",
                "    this.style.maxHeight = 'none'; \n",
                "\">val a : int option list = [Some 3; None]\n",
                "</pre>"
              ],
              "output_type": "pyout",
              "prompt_number": 42,
              "metadata": {}
            },
            {
              "html": [
                "<pre style=\"color:slategray;max-height:100px;overflow:hidden\" \n",
                "onclick=\"\n",
                "if (this.style.maxHeight === 'none') \n",
                "    this.style.maxHeight = '100px';\n",
                "else\n",
                "    this.style.maxHeight = 'none'; \n",
                "\">val b : colour option list = [None; Some Blue]\n",
                "</pre>"
              ],
              "output_type": "pyout",
              "prompt_number": 42,
              "metadata": {}
            }
          ],
          "input": [
            "let n = None\n",
            "\n",
            "let a = [ Some 3; n ]\n",
            "\n",
            "let b = [ n; Some Blue ]"
          ],
          "metadata": {},
          "cell_type": "code",
          "prompt_number": 42,
          "language": "python",
          "collapsed": false
        },
        {
          "source": [
            "Recursive data types"
          ],
          "metadata": {},
          "cell_type": "heading",
          "level": 3
        },
        {
          "source": [
            "Data types in OCaml can also be recursive. This allows us to create recursive structures such as trees and lists. The following defines a parametric binary tree type:"
          ],
          "metadata": {},
          "cell_type": "markdown"
        },
        {
          "outputs": [
            {
              "html": [
                "<pre style=\"color:slategray;max-height:100px;overflow:hidden\" \n",
                "onclick=\"\n",
                "if (this.style.maxHeight === 'none') \n",
                "    this.style.maxHeight = '100px';\n",
                "else\n",
                "    this.style.maxHeight = 'none'; \n",
                "\">type 'a binary_tree = Leaf of 'a | Tree of 'a binary_tree * 'a binary_tree\n",
                "</pre>"
              ],
              "output_type": "pyout",
              "prompt_number": 44,
              "metadata": {}
            }
          ],
          "input": [
            "type 'a binary_tree =\n",
            "  | Leaf of 'a\n",
            "  | Tree of 'a binary_tree * 'a binary_tree"
          ],
          "metadata": {},
          "cell_type": "code",
          "prompt_number": 44,
          "language": "python",
          "collapsed": false
        },
        {
          "source": [
            "As you can see the `Tree` constructor of `binary_tree` contains other `binary_tree`s as its arguments."
          ],
          "metadata": {},
          "cell_type": "markdown"
        },
        {
          "source": [
            "Inspecting recursive data types"
          ],
          "metadata": {},
          "cell_type": "heading",
          "level": 4
        },
        {
          "source": [
            "We can write recursive functions to handle these recursive data types. For example, the following function returns the maximum depth of a binary tree:"
          ],
          "metadata": {},
          "cell_type": "markdown"
        },
        {
          "outputs": [
            {
              "html": [
                "<pre style=\"color:slategray;max-height:100px;overflow:hidden\" \n",
                "onclick=\"\n",
                "if (this.style.maxHeight === 'none') \n",
                "    this.style.maxHeight = '100px';\n",
                "else\n",
                "    this.style.maxHeight = 'none'; \n",
                "\">val depth : 'a binary_tree -&gt; int = &lt;fun&gt;\n",
                "</pre>"
              ],
              "output_type": "pyout",
              "prompt_number": 47,
              "metadata": {}
            },
            {
              "html": [
                "<pre style=\"color:slategray;max-height:100px;overflow:hidden\" \n",
                "onclick=\"\n",
                "if (this.style.maxHeight === 'none') \n",
                "    this.style.maxHeight = '100px';\n",
                "else\n",
                "    this.style.maxHeight = 'none'; \n",
                "\">val tree : colour binary_tree =\n",
                "  Tree (Tree (Leaf Red, Tree (Leaf Blue, Leaf Green)),\n",
                "   Tree (Leaf Green, Leaf Green))\n",
                "</pre>"
              ],
              "output_type": "pyout",
              "prompt_number": 47,
              "metadata": {}
            },
            {
              "html": [
                "<pre style=\"color:slategray;max-height:100px;overflow:hidden\" \n",
                "onclick=\"\n",
                "if (this.style.maxHeight === 'none') \n",
                "    this.style.maxHeight = '100px';\n",
                "else\n",
                "    this.style.maxHeight = 'none'; \n",
                "\">val d : int = 4\n",
                "</pre>"
              ],
              "output_type": "pyout",
              "prompt_number": 47,
              "metadata": {}
            }
          ],
          "input": [
            "let rec depth tr =\n",
            "  match tr with\n",
            "  | Leaf _ -> 1\n",
            "  | Tree(left, right) ->\n",
            "      1 + (max (depth left) (depth right))\n",
            "\n",
            "let tree = \n",
            "  Tree(Tree(Leaf Red,\n",
            "            Tree(Leaf Blue,\n",
            "                 Leaf Green)),\n",
            "       Tree(Leaf Green,\n",
            "            Leaf Green))\n",
            "\n",
            "let d = depth tree"
          ],
          "metadata": {},
          "cell_type": "code",
          "prompt_number": 47,
          "language": "python",
          "collapsed": false
        }
      ],
      "metadata": {}
    }
  ],
  "metadata": { "name": "", "language": "ocaml" },
  "nbformat": 3,
  "nbformat_minor": 0
}