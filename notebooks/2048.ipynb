{
  "worksheets": [
    {
      "cells": [
        {
          "source": [
            "<h1>2048</h1>\n",
            "\n",
            "The aim of this session is to write an implementation of the popular game [2048](http://gabrielecirulli.github.io/2048/).\n",
            "\n",
            "The basic types and stub functions are provided, along with a suite of failing tests and a front-end that runs the game in a browser.  Your task is to implement the game logic in OCaml.\n",
            "\n",
            "<h3>Preparation</h3>\n",
            "\n",
            "We'll start with a brief introduction to OCaml, with a tour through the parts of the language that you'll need for this session.  We've also prepared IOCaml notebooks available to guide you through these fundamental language constructs.  Once you've completed the notebooks you'll be ready to jump into implementing the game.\n",
            "\n",
            "- [Basics](./basics.html)\n",
            "- [Abstract Data-types](./adt.html)\n",
            "- [OCaml Documentation](http://caml.inria.fr/pub/docs/manual-ocaml/libref/), for instance the [List](http://caml.inria.fr/pub/docs/manual-ocaml/libref/List.html) module \n",
            "- [Project Documentation](./doc/index.html)\n",
            "\n",
            "<h3>Running the Code</h3>\n",
            "\n",
            "You can run the code of this tutorial by pressing [CTRL+ENTER] or [SHIFT+ENTER]. [CTRL+ENTER] will sequentially evaluate <b>all</b> the code written on the page. [SHIFT+ENTER] will only evaluate the current cell (so other cells might become out-dated). Everything is compiled to JavaScript on-the-fly, so once the page is loaded it doesn't need a network connection anymore.\n",
            "\n",
            "<h3>Local Installation</h3>\n",
            "\n",
            "It might be more convenient to run that tutorial on your laptop (where you can use [merlin](https://opam.ocaml.org/blog/turn-your-editor-into-an-ocaml-ide/). In this case, you can run this tutorial locally by cloning https://github.com/ocamllabs/2048-tutorial/. Check README.md at the root of the repository to get more details.\n"
          ],
          "metadata": {},
          "cell_type": "markdown"
        },
        {
          "source": [
            "  <h3>Step 1</h3>\n",
            "\n",
            "  Complete the function `is_square_2048`. The function should\n",
            "     return `true` if a square has the value `2048` and `false`\n",
            "     otherwise."
          ],
          "metadata": {},
          "cell_type": "markdown"
        },
        {
          "outputs": [],
          "input": [
            "let is_square_2048 (sq : G2048.square) = false"
          ],
          "metadata": {},
          "cell_type": "code",
          "language": "python",
          "collapsed": false
        },
        {
          "source": [
            "Write the `is_board_winning`. The `List.exists` function\n",
            "     (which you can try out in an IOCaml notebook) may prove\n",
            "     useful.\n",
            " "
          ],
          "metadata": {},
          "cell_type": "markdown"
        },
        {
          "outputs": [],
          "input": [
            " let is_board_winning (b : G2048.board) = false"
          ],
          "metadata": {},
          "cell_type": "code",
          "language": "python",
          "collapsed": false
        },
        {
          "outputs": [],
          "input": [
            "Test.test_is_board_winning is_board_winning"
          ],
          "metadata": {},
          "cell_type": "code",
          "language": "python",
          "collapsed": false
        },
        {
          "source": [
            "<h3>Step 2</h3>\n",
            "\n",
            "  The next step is to implement the logic for sliding boards up,\n",
            "     down, left and right.\n",
            "\n",
            "  Implement the `shift_left_helper` to support the left shift\n",
            "  action.  You'll need to consider the following cases:\n",
            "\n",
            "- The row is empty.  There's nothing to do except return the\n",
            "  accumulated `empties` list.\n",
            "\n",
            "- The first square is unoccupied (`None`).  Add it to `empties`\n",
            "  and process the rest of the row.\n",
            "\n",
            "- The first two squares are occupied by equal tiles.  Merge them\n",
            "  together, add an entry to the `empties` list, and process the\n",
            "  rest of the row.\n",
            "\n",
            "- The first square is occupied, but the second square is\n",
            "  unoccupied.  Move the unoccupied square to the `empties` list\n",
            "  and reprocess the row.\n",
            "\n",
            "- The first square is occupied and not covered by the cases\n",
            "  above.  Move on to processing the rest of the list.\n",
            "\n",
            "> Hint: use pattern matching on r and recursion.\n",
            "     "
          ],
          "metadata": {},
          "cell_type": "markdown"
        },
        {
          "outputs": [],
          "input": [
            "let rec shift_left_helper (r : G2048.row) (empties : G2048.row) : G2048.row = r"
          ],
          "metadata": {},
          "cell_type": "code",
          "language": "python",
          "collapsed": false
        },
        {
          "outputs": [],
          "input": [
            "let shift_left (r : G2048.row) = shift_left_helper r []"
          ],
          "metadata": {},
          "cell_type": "code",
          "language": "python",
          "collapsed": false
        },
        {
          "source": [
            "Implement the `shift_board` function using\n",
            "`shift_left_helper`.  Hint: how can you implement a right shift\n",
            "in terms of a left shift?  How can you implement an up shift in\n",
            "terms of a left shift? \n",
            "\n",
            "> Hint: use pattern matching on mv and shift_left, `List.rev` and `Utils.transpose`."
          ],
          "metadata": {},
          "cell_type": "markdown"
        },
        {
          "outputs": [],
          "input": [
            "let rec shift_board (mv : G2048.move) (b : G2048.board) : G2048.board = b"
          ],
          "metadata": {},
          "cell_type": "code",
          "language": "python",
          "collapsed": false
        },
        {
          "outputs": [],
          "input": [
            "Test.test_is_board_winning_more shift_board is_board_winning;\n",
            "Test.test_shift_empty shift_board;\n",
            "Test.test_shift_empty_squares shift_board;\n",
            "Test.test_shift_empty_squares shift_board;\n",
            "Test.test_shift_coalesce shift_board;\n",
            "Test.test_shifts shift_board;\n",
            "Test.test_shift_board_fixpoint shift_board"
          ],
          "metadata": {},
          "cell_type": "code",
          "language": "python",
          "collapsed": false
        },
        {
          "source": [
            "<h3>Step 3</h3>\n",
            "\n",
            "The next step is to implement a function for adding new tiles to the board after a move.\n",
            "\n",
            "Implement the `insert_square` function.  You may like to\n",
            "start by implementing a function `insert_into_row`, perhaps using\n",
            "`Utils.replace_one`.  You may find it simplest to simply insert\n",
            "the tile in the first empty space."
          ],
          "metadata": {},
          "cell_type": "markdown"
        },
        {
          "outputs": [],
          "input": [
            "let insert_square (sq : G2048.square) (b : G2048.board) : G2048.board option = None"
          ],
          "metadata": {},
          "cell_type": "code",
          "language": "python",
          "collapsed": false
        },
        {
          "outputs": [],
          "input": [
            "Test.test_insert_row_completely_empty insert_square;\n",
            "Test.test_insert_row_partially_empty insert_square;\n",
            "Test.test_insert_row_full insert_square;\n",
            "Test.test_insert_last_square insert_square;\n",
            "Test.test_add insert_square;\n",
            "Test.test_add_to_full insert_square;\n",
            "Test.test_insert insert_square"
          ],
          "metadata": {},
          "cell_type": "code",
          "language": "python",
          "collapsed": false
        },
        {
          "source": [
            "Here's a minor milestone at this point: the game should be somewhat playable."
          ],
          "metadata": {},
          "cell_type": "markdown"
        },
        {
          "source": [
            "<h3>Step 4</h3>\n",
            "\n",
            "You've written have a check for a winning board, but we don't yet\n",
            "have a way to check whether the game has been lost.  The game is\n",
            "lost when it's no longer possible to make a move.\n",
            "\n",
            "Write a function `is_complete_row`.  A row is considered\n",
            "complete if there are no empty squares and if a shift leaves it\n",
            "unchanged."
          ],
          "metadata": {},
          "cell_type": "markdown"
        },
        {
          "outputs": [],
          "input": [
            "let rec is_complete_row (r : G2048.row) : bool = true"
          ],
          "metadata": {},
          "cell_type": "code",
          "language": "python",
          "collapsed": false
        },
        {
          "source": [
            "Using `is_complete_row`, write a function `is_game_over`. "
          ],
          "metadata": {},
          "cell_type": "markdown"
        },
        {
          "outputs": [],
          "input": [
            "let is_game_over (b : G2048.board) = false"
          ],
          "metadata": {},
          "cell_type": "code",
          "language": "python",
          "collapsed": false
        },
        {
          "outputs": [],
          "input": [
            "Test.test_game_over is_game_over"
          ],
          "metadata": {},
          "cell_type": "code",
          "language": "python",
          "collapsed": false
        },
        {
          "source": [
            "<h3>Boiller-plate Code</h3>"
          ],
          "metadata": {},
          "cell_type": "markdown"
        },
        {
          "outputs": [],
          "input": [
            "module S: G2048.Solution = struct\n",
            "  let square_provenances (sq : G2048.square) = []\n",
            "  let is_square_2048 = is_square_2048  \n",
            "  let is_complete_row = is_complete_row\n",
            "  let is_board_winning = is_board_winning\n",
            "  let insert_square = insert_square\n",
            "  let shift_left_helper = shift_left_helper\n",
            "  let shift_board = shift_board\n",
            "  let is_game_over = is_game_over\n",
            "end\n",
            "module M = Main.Make(S)\n",
            "let () = M.start ()"
          ],
          "metadata": {},
          "cell_type": "code",
          "language": "python",
          "collapsed": false
        },
        {
          "source": [
            "<div id=\"2048\" />"
          ],
          "metadata": {},
          "cell_type": "markdown"
        }
      ],
      "metadata": {}
    }
  ],
  "metadata": { "name": "", "language": "ocaml" },
  "nbformat": 3,
  "nbformat_minor": 0
}