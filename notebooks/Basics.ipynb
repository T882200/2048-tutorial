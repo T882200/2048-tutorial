{
  "worksheets": [
    {
      "cells": [
        {
          "source": [
            "Basics"
          ],
          "metadata": {},
          "cell_type": "heading",
          "level": 1
        },
        {
          "source": [
            "Variables"
          ],
          "metadata": {},
          "cell_type": "heading",
          "level": 2
        },
        {
          "source": [
            "Let bindings"
          ],
          "metadata": {},
          "cell_type": "heading",
          "level": 4
        },
        {
          "source": [
            "At its simplest, a variable is an identifier whose meaning is bound to a particular value. In OCaml these bindings are introduced using the `let` keyword."
          ],
          "metadata": {},
          "cell_type": "markdown"
        },
        {
          "outputs": [
            {
              "html": [
                "<pre style=\"color:slategray;max-height:100px;overflow:hidden\" \n",
                "onclick=\"\n",
                "if (this.style.maxHeight === 'none') \n",
                "    this.style.maxHeight = '100px';\n",
                "else\n",
                "    this.style.maxHeight = 'none'; \n",
                "\">val pi : int = 3\n",
                "</pre>"
              ],
              "output_type": "pyout",
              "prompt_number": 1,
              "metadata": {}
            }
          ],
          "input": [
            "let pi = 3"
          ],
          "metadata": {},
          "cell_type": "code",
          "prompt_number": 1,
          "language": "python",
          "collapsed": false
        },
        {
          "source": [
            "As you can see from the output `pi` is now bound to the value `3`. Its type has also been inferred as `int`.\n",
            "\n",
            "Every variable binding has a scope, which is the portion of the code that can refer to that binding. The scope of top-level let bindings -- like the one above -- is everything that follows it."
          ],
          "metadata": {},
          "cell_type": "markdown"
        },
        {
          "outputs": [
            {
              "html": [
                "<pre style=\"color:slategray;max-height:100px;overflow:hidden\" \n",
                "onclick=\"\n",
                "if (this.style.maxHeight === 'none') \n",
                "    this.style.maxHeight = '100px';\n",
                "else\n",
                "    this.style.maxHeight = 'none'; \n",
                "\">- : int = 30\n",
                "</pre>"
              ],
              "output_type": "pyout",
              "prompt_number": 2,
              "metadata": {}
            }
          ],
          "input": [
            "2 * pi * 5"
          ],
          "metadata": {},
          "cell_type": "code",
          "prompt_number": 2,
          "language": "python",
          "collapsed": false
        },
        {
          "source": [
            "Local let bindings"
          ],
          "metadata": {},
          "cell_type": "heading",
          "level": 4
        },
        {
          "source": [
            "We can also use `let` to create a variable binding whose scope is limited to a particular expression using the `in` keyword:"
          ],
          "metadata": {},
          "cell_type": "markdown"
        },
        {
          "outputs": [
            {
              "html": [
                "<pre style=\"color:slategray;max-height:100px;overflow:hidden\" \n",
                "onclick=\"\n",
                "if (this.style.maxHeight === 'none') \n",
                "    this.style.maxHeight = '100px';\n",
                "else\n",
                "    this.style.maxHeight = 'none'; \n",
                "\">val i : int = 7\n",
                "</pre>"
              ],
              "output_type": "pyout",
              "prompt_number": 3,
              "metadata": {}
            }
          ],
          "input": [
            "let i =\n",
            "  let j = 5 in\n",
            "  j + 2"
          ],
          "metadata": {},
          "cell_type": "code",
          "prompt_number": 3,
          "language": "python",
          "collapsed": false
        },
        {
          "source": [
            "As you can see from the output, only `i` has been bound to a value at the top-level. The `j` variable is no longer in scope:"
          ],
          "metadata": {},
          "cell_type": "markdown"
        },
        {
          "outputs": [
            {
              "html": [
                "<pre style=\"color:red;max-height:100px;overflow:hidden\" \n",
                "onclick=\"\n",
                "if (this.style.maxHeight === 'none') \n",
                "    this.style.maxHeight = '100px';\n",
                "else\n",
                "    this.style.maxHeight = 'none'; \n",
                "\">File &quot;[4]&quot;, line 1, characters 0-1:\n",
                "Error: Unbound value j\n",
                "Characters 0-1:\n",
                "  j + 4\n",
                "  ^\n",
                "</pre>"
              ],
              "output_type": "pyout",
              "prompt_number": 4,
              "metadata": {}
            }
          ],
          "input": [
            "j + 4"
          ],
          "metadata": {},
          "cell_type": "code",
          "prompt_number": 4,
          "language": "python",
          "collapsed": false
        },
        {
          "source": [
            "Conditionals"
          ],
          "metadata": {},
          "cell_type": "heading",
          "level": 2
        },
        {
          "source": [
            "Unsurprisingly, OCaml provides conditional expressions using the `if` keyword:"
          ],
          "metadata": {},
          "cell_type": "markdown"
        },
        {
          "outputs": [
            {
              "html": [
                "<pre style=\"color:slategray;max-height:100px;overflow:hidden\" \n",
                "onclick=\"\n",
                "if (this.style.maxHeight === 'none') \n",
                "    this.style.maxHeight = '100px';\n",
                "else\n",
                "    this.style.maxHeight = 'none'; \n",
                "\">val a : int = 7\n",
                "</pre>"
              ],
              "output_type": "pyout",
              "prompt_number": 9,
              "metadata": {}
            }
          ],
          "input": [
            "let a = if i < 10 then i else 10"
          ],
          "metadata": {},
          "cell_type": "code",
          "prompt_number": 9,
          "language": "python",
          "collapsed": false
        },
        {
          "source": [
            "Functions"
          ],
          "metadata": {},
          "cell_type": "heading",
          "level": 2
        },
        {
          "source": [
            "Function definition"
          ],
          "metadata": {},
          "cell_type": "heading",
          "level": 4
        },
        {
          "source": [
            "The `let` keyword can also be used to create functions:"
          ],
          "metadata": {},
          "cell_type": "markdown"
        },
        {
          "outputs": [
            {
              "html": [
                "<pre style=\"color:slategray;max-height:100px;overflow:hidden\" \n",
                "onclick=\"\n",
                "if (this.style.maxHeight === 'none') \n",
                "    this.style.maxHeight = '100px';\n",
                "else\n",
                "    this.style.maxHeight = 'none'; \n",
                "\">val succ : int -&gt; int = &lt;fun&gt;\n",
                "</pre>"
              ],
              "output_type": "pyout",
              "prompt_number": 7,
              "metadata": {}
            }
          ],
          "input": [
            "let succ x = x + 1"
          ],
          "metadata": {},
          "cell_type": "code",
          "prompt_number": 7,
          "language": "python",
          "collapsed": false
        },
        {
          "source": [
            "This defines a function called `succ` which takes an argument `x` and returns the value of `x + 1`. The type inferred for `succ` is `int -> int` which means it is a function from `int` to `int` -- it takes an integer argument and returns an integer."
          ],
          "metadata": {},
          "cell_type": "markdown"
        },
        {
          "source": [
            "Multiple arguments"
          ],
          "metadata": {},
          "cell_type": "heading",
          "level": 4
        },
        {
          "source": [
            "Functions with multiple arguments are defined the same way:"
          ],
          "metadata": {},
          "cell_type": "markdown"
        },
        {
          "outputs": [
            {
              "html": [
                "<pre style=\"color:slategray;max-height:100px;overflow:hidden\" \n",
                "onclick=\"\n",
                "if (this.style.maxHeight === 'none') \n",
                "    this.style.maxHeight = '100px';\n",
                "else\n",
                "    this.style.maxHeight = 'none'; \n",
                "\">val add : int -&gt; int -&gt; int = &lt;fun&gt;\n",
                "</pre>"
              ],
              "output_type": "pyout",
              "prompt_number": 8,
              "metadata": {}
            }
          ],
          "input": [
            "let add x y = x + y"
          ],
          "metadata": {},
          "cell_type": "code",
          "prompt_number": 8,
          "language": "python",
          "collapsed": false
        },
        {
          "source": [
            "Function application"
          ],
          "metadata": {},
          "cell_type": "heading",
          "level": 4
        },
        {
          "source": [
            "Unlike most imperative languages, functions are applied without any brackets:"
          ],
          "metadata": {},
          "cell_type": "markdown"
        },
        {
          "outputs": [
            {
              "html": [
                "<pre style=\"color:slategray;max-height:100px;overflow:hidden\" \n",
                "onclick=\"\n",
                "if (this.style.maxHeight === 'none') \n",
                "    this.style.maxHeight = '100px';\n",
                "else\n",
                "    this.style.maxHeight = 'none'; \n",
                "\">val b : int = 9\n",
                "</pre>"
              ],
              "output_type": "pyout",
              "prompt_number": 10,
              "metadata": {}
            },
            {
              "html": [
                "<pre style=\"color:slategray;max-height:100px;overflow:hidden\" \n",
                "onclick=\"\n",
                "if (this.style.maxHeight === 'none') \n",
                "    this.style.maxHeight = '100px';\n",
                "else\n",
                "    this.style.maxHeight = 'none'; \n",
                "\">val c : int = 16\n",
                "</pre>"
              ],
              "output_type": "pyout",
              "prompt_number": 10,
              "metadata": {}
            }
          ],
          "input": [
            "let b = succ 8\n",
            "\n",
            "let c = add a b"
          ],
          "metadata": {},
          "cell_type": "code",
          "prompt_number": 10,
          "language": "python",
          "collapsed": false
        },
        {
          "source": [
            "Recursive functions"
          ],
          "metadata": {},
          "cell_type": "heading",
          "level": 4
        },
        {
          "source": [
            "We can also create recursive functions by adding the `rec` keyword to a let binding. For example, the classic fibonacci function:"
          ],
          "metadata": {},
          "cell_type": "markdown"
        },
        {
          "outputs": [
            {
              "html": [
                "<pre style=\"color:slategray;max-height:100px;overflow:hidden\" \n",
                "onclick=\"\n",
                "if (this.style.maxHeight === 'none') \n",
                "    this.style.maxHeight = '100px';\n",
                "else\n",
                "    this.style.maxHeight = 'none'; \n",
                "\">val fib : int -&gt; int = &lt;fun&gt;\n",
                "</pre>"
              ],
              "output_type": "pyout",
              "prompt_number": 13,
              "metadata": {}
            },
            {
              "html": [
                "<pre style=\"color:slategray;max-height:100px;overflow:hidden\" \n",
                "onclick=\"\n",
                "if (this.style.maxHeight === 'none') \n",
                "    this.style.maxHeight = '100px';\n",
                "else\n",
                "    this.style.maxHeight = 'none'; \n",
                "\">val d : int = 89\n",
                "</pre>"
              ],
              "output_type": "pyout",
              "prompt_number": 13,
              "metadata": {}
            }
          ],
          "input": [
            "let rec fib x =\n",
            "  if x < 2 then 1 \n",
            "  else fib (x - 1) + fib (x - 2)\n",
            "  \n",
            "let d = fib 10"
          ],
          "metadata": {},
          "cell_type": "code",
          "prompt_number": 13,
          "language": "python",
          "collapsed": false
        },
        {
          "source": [
            "Higher-order functions"
          ],
          "metadata": {},
          "cell_type": "heading",
          "level": 4
        },
        {
          "source": [
            "Since OCaml is a functional language, functions are regular values which can be used like any other. In particular, they can be used as arguments to other functions. Functions which take other functions as arguments as called higher-order functions.\n",
            "\n",
            "For example, the `List.map` function takes two arguments: a function and a list, and returns a new list created by applying the function to each of the elements of the list.\n",
            "\n",
            "We can use `List.map` to apply the `succ` function to all the numbers in the list `[1; 2; 3]`:"
          ],
          "metadata": {},
          "cell_type": "markdown"
        },
        {
          "outputs": [
            {
              "html": [
                "<pre style=\"color:slategray;max-height:100px;overflow:hidden\" \n",
                "onclick=\"\n",
                "if (this.style.maxHeight === 'none') \n",
                "    this.style.maxHeight = '100px';\n",
                "else\n",
                "    this.style.maxHeight = 'none'; \n",
                "\">val l : int list = [2; 3; 4]\n",
                "</pre>"
              ],
              "output_type": "pyout",
              "prompt_number": 14,
              "metadata": {}
            }
          ],
          "input": [
            "let l = List.map succ [1; 2; 3]"
          ],
          "metadata": {},
          "cell_type": "code",
          "prompt_number": 14,
          "language": "python",
          "collapsed": false
        },
        {
          "source": [
            "Currying"
          ],
          "metadata": {},
          "cell_type": "heading",
          "level": 4
        },
        {
          "source": [
            "Like many functional languages, OCaml provides support for partial application of functions in the form of *currying*.\n",
            "\n",
            "You may have noticed that the type of our `add` function was written: `int -> int -> int`, another way to write this type would be `int -> (int -> int)`. In other words, `add` is acutally a function which takes an `int` and returns a function from `int` to `int`.\n",
            "\n",
            "For example, we could redefine our `succ` function by partially applying `add` to `1`:"
          ],
          "metadata": {},
          "cell_type": "markdown"
        },
        {
          "outputs": [
            {
              "html": [
                "<pre style=\"color:slategray;max-height:100px;overflow:hidden\" \n",
                "onclick=\"\n",
                "if (this.style.maxHeight === 'none') \n",
                "    this.style.maxHeight = '100px';\n",
                "else\n",
                "    this.style.maxHeight = 'none'; \n",
                "\">val succ : int -&gt; int = &lt;fun&gt;\n",
                "</pre>"
              ],
              "output_type": "pyout",
              "prompt_number": 16,
              "metadata": {}
            }
          ],
          "input": [
            "let succ = add 1"
          ],
          "metadata": {},
          "cell_type": "code",
          "prompt_number": 16,
          "language": "python",
          "collapsed": false
        },
        {
          "source": [
            "Labelled arguments"
          ],
          "metadata": {},
          "cell_type": "heading",
          "level": 2
        },
        {
          "source": [
            "To improve code readability, you can add labels to function arguments using the `~` symbol:"
          ],
          "metadata": {},
          "cell_type": "markdown"
        },
        {
          "outputs": [
            {
              "html": [
                "<pre style=\"color:slategray;max-height:100px;overflow:hidden\" \n",
                "onclick=\"\n",
                "if (this.style.maxHeight === 'none') \n",
                "    this.style.maxHeight = '100px';\n",
                "else\n",
                "    this.style.maxHeight = 'none'; \n",
                "\">val range : first:int -&gt; last:int -&gt; int list = &lt;fun&gt;\n",
                "</pre>"
              ],
              "output_type": "pyout",
              "prompt_number": 18,
              "metadata": {}
            },
            {
              "html": [
                "<pre style=\"color:slategray;max-height:100px;overflow:hidden\" \n",
                "onclick=\"\n",
                "if (this.style.maxHeight === 'none') \n",
                "    this.style.maxHeight = '100px';\n",
                "else\n",
                "    this.style.maxHeight = 'none'; \n",
                "\">val m : int list = [3; 4; 5; 6; 7; 8; 9; 10]\n",
                "</pre>"
              ],
              "output_type": "pyout",
              "prompt_number": 18,
              "metadata": {}
            },
            {
              "html": [
                "<pre style=\"color:slategray;max-height:100px;overflow:hidden\" \n",
                "onclick=\"\n",
                "if (this.style.maxHeight === 'none') \n",
                "    this.style.maxHeight = '100px';\n",
                "else\n",
                "    this.style.maxHeight = 'none'; \n",
                "\">val n : int list = [18; 19; 20]\n",
                "</pre>"
              ],
              "output_type": "pyout",
              "prompt_number": 18,
              "metadata": {}
            }
          ],
          "input": [
            "let rec range ~first:a ~last:b =\n",
            "    if a > b then []\n",
            "    else a :: range ~first:(a+1) ~last:b\n",
            "    \n",
            "let m = range ~first:3 ~last:10\n",
            "let n = range ~last:20 ~first:18"
          ],
          "metadata": {},
          "cell_type": "code",
          "prompt_number": 18,
          "language": "python",
          "collapsed": false
        }
      ],
      "metadata": {}
    }
  ],
  "metadata": { "name": "", "language": "ocaml" },
  "nbformat": 3,
  "nbformat_minor": 0
}